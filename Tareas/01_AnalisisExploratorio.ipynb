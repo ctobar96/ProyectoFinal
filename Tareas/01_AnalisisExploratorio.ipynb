{
 "cells": [
  {
   "cell_type": "markdown",
   "metadata": {},
   "source": [
    "# Inspección de Datos\n",
    "Se debe realizar una inspección inicial del Dataset con la finalidad de entender su estructura, contenido y calidad. El Dataset de selección o escogido por mi para dicho estudio corresponde Un conjunto de datos de análisis de accidentes de aviación.  \n",
    "\n",
    "`Carga del archivo:` Pandas permite cargar desde un archivo CSV, desde una ubicación local.\n",
    "\n",
    "`Información general:` Se presenta la información global del dataset.\n",
    "\n",
    "`Descripción del conjunto:`\n",
    "- Se presentan las dimensiones (filas, columnas).\n",
    "- Muestra de las primeras 5 filas, con la finalidad de visializar los datos."
   ]
  },
  {
   "cell_type": "code",
   "execution_count": 37,
   "metadata": {},
   "outputs": [],
   "source": [
    "# Importando la librería de pandas\n",
    "import pandas as pd  # type: ignore\n",
    "import os\n",
    "\n",
    "# Cargar datos desde un archivo CSV\n",
    "try:\n",
    "    rutaAbsoluta = os.path.abspath('../Airplane_Crashes_and_Fatalities_Since_1908.csv')\n",
    "    df = pd.read_csv(rutaAbsoluta)    \n",
    "except FileNotFoundError:\n",
    "    print(\"El archivo no se encuentra.\")"
   ]
  },
  {
   "cell_type": "code",
   "execution_count": 38,
   "metadata": {},
   "outputs": [
    {
     "name": "stdout",
     "output_type": "stream",
     "text": [
      "\u001b[1mDIMENSIONES\u001b[0m\n",
      "Filas: 5268\n",
      "Columnas: 14 \n",
      "\n"
     ]
    }
   ],
   "source": [
    "# Dimensiones de los datos (Filas, columnas):\n",
    "print(\"\\u001b[1mDIMENSIONES\\u001b[0m\")\n",
    "print(\"Filas:\",df.shape[0]) # type: ignore\n",
    "print(\"Columnas:\",df.shape[1],\"\\n\") # type: ignore"
   ]
  },
  {
   "cell_type": "code",
   "execution_count": 39,
   "metadata": {},
   "outputs": [
    {
     "name": "stdout",
     "output_type": "stream",
     "text": [
      "\u001b[1mINFOMACIÓN GENERAL\u001b[0m\n",
      "<class 'pandas.core.frame.DataFrame'>\n",
      "RangeIndex: 5268 entries, 0 to 5267\n",
      "Data columns (total 14 columns):\n",
      " #   Column        Non-Null Count  Dtype  \n",
      "---  ------        --------------  -----  \n",
      " 0   index         5268 non-null   int64  \n",
      " 1   Date          5268 non-null   object \n",
      " 2   Time          3049 non-null   object \n",
      " 3   Location      5248 non-null   object \n",
      " 4   Operator      5250 non-null   object \n",
      " 5   Flight #      1069 non-null   object \n",
      " 6   Route         3561 non-null   object \n",
      " 7   Type          5241 non-null   object \n",
      " 8   Registration  4933 non-null   object \n",
      " 9   cn/In         4040 non-null   object \n",
      " 10  Aboard        5246 non-null   float64\n",
      " 11  Fatalities    5256 non-null   float64\n",
      " 12  Ground        5246 non-null   float64\n",
      " 13  Summary       4878 non-null   object \n",
      "dtypes: float64(3), int64(1), object(10)\n",
      "memory usage: 576.3+ KB\n"
     ]
    }
   ],
   "source": [
    "# Información general de la tabla:\n",
    "print(\"\\u001b[1mINFOMACIÓN GENERAL\\u001b[0m\")\n",
    "df.info()  # type: ignore"
   ]
  },
  {
   "cell_type": "markdown",
   "metadata": {},
   "source": [
    "### Estructura del conjunto de datos\n",
    "### Características\n",
    "1. `index (int):` el índice de la fila\n",
    "2. `Date (string):` la fecha del incidente\n",
    "3. `Time (string):` la hora del incidente\n",
    "4. `Location (string):` el lugar del incidente.\n",
    "5. `Operator (string):` el operador de la aeronave\n",
    "6. `Flight # (string):` el número de vuelo de la aeronave\n",
    "7. `Route (string):` la ruta de la aeronave\n",
    "8. `Type (string):` el tipo de aeronave\n",
    "9. `Registration (string):` la matrícula de la aeronave\n",
    "10. `cn/In (string):` el número de construcción/número de serie de la aeronave\n",
    "11. `Aboard (float):` el número de personas a bordo del avión.\n",
    "12. `Fatalities (float):` el número de víctimas mortales en el incidente.\n",
    "13. `Ground (float):` el número de personas en tierra que murieron en el incidente.\n",
    "14. `Summary (string):` un resumen del incidente"
   ]
  },
  {
   "cell_type": "code",
   "execution_count": 43,
   "metadata": {},
   "outputs": [
    {
     "name": "stdout",
     "output_type": "stream",
     "text": [
      "\u001b[1mPRIMERAS (3) FILAS\u001b[0m\n"
     ]
    },
    {
     "data": {
      "text/html": [
       "<div>\n",
       "<style scoped>\n",
       "    .dataframe tbody tr th:only-of-type {\n",
       "        vertical-align: middle;\n",
       "    }\n",
       "\n",
       "    .dataframe tbody tr th {\n",
       "        vertical-align: top;\n",
       "    }\n",
       "\n",
       "    .dataframe thead th {\n",
       "        text-align: right;\n",
       "    }\n",
       "</style>\n",
       "<table border=\"1\" class=\"dataframe\">\n",
       "  <thead>\n",
       "    <tr style=\"text-align: right;\">\n",
       "      <th></th>\n",
       "      <th>index</th>\n",
       "      <th>Date</th>\n",
       "      <th>Time</th>\n",
       "      <th>Location</th>\n",
       "      <th>Operator</th>\n",
       "      <th>Flight #</th>\n",
       "      <th>Route</th>\n",
       "      <th>Type</th>\n",
       "      <th>Registration</th>\n",
       "      <th>cn/In</th>\n",
       "      <th>Aboard</th>\n",
       "      <th>Fatalities</th>\n",
       "      <th>Ground</th>\n",
       "      <th>Summary</th>\n",
       "    </tr>\n",
       "  </thead>\n",
       "  <tbody>\n",
       "    <tr>\n",
       "      <th>0</th>\n",
       "      <td>0</td>\n",
       "      <td>09/17/1908</td>\n",
       "      <td>17:18</td>\n",
       "      <td>Fort Myer, Virginia</td>\n",
       "      <td>Military - U.S. Army</td>\n",
       "      <td>NaN</td>\n",
       "      <td>Demonstration</td>\n",
       "      <td>Wright Flyer III</td>\n",
       "      <td>NaN</td>\n",
       "      <td>1</td>\n",
       "      <td>2.0</td>\n",
       "      <td>1.0</td>\n",
       "      <td>0.0</td>\n",
       "      <td>During a demonstration flight, a U.S. Army fly...</td>\n",
       "    </tr>\n",
       "    <tr>\n",
       "      <th>1</th>\n",
       "      <td>1</td>\n",
       "      <td>07/12/1912</td>\n",
       "      <td>06:30</td>\n",
       "      <td>AtlantiCity, New Jersey</td>\n",
       "      <td>Military - U.S. Navy</td>\n",
       "      <td>NaN</td>\n",
       "      <td>Test flight</td>\n",
       "      <td>Dirigible</td>\n",
       "      <td>NaN</td>\n",
       "      <td>NaN</td>\n",
       "      <td>5.0</td>\n",
       "      <td>5.0</td>\n",
       "      <td>0.0</td>\n",
       "      <td>First U.S. dirigible Akron exploded just offsh...</td>\n",
       "    </tr>\n",
       "    <tr>\n",
       "      <th>2</th>\n",
       "      <td>2</td>\n",
       "      <td>08/06/1913</td>\n",
       "      <td>NaN</td>\n",
       "      <td>Victoria, British Columbia, Canada</td>\n",
       "      <td>Private</td>\n",
       "      <td>-</td>\n",
       "      <td>NaN</td>\n",
       "      <td>Curtiss seaplane</td>\n",
       "      <td>NaN</td>\n",
       "      <td>NaN</td>\n",
       "      <td>1.0</td>\n",
       "      <td>1.0</td>\n",
       "      <td>0.0</td>\n",
       "      <td>The first fatal airplane accident in Canada oc...</td>\n",
       "    </tr>\n",
       "  </tbody>\n",
       "</table>\n",
       "</div>"
      ],
      "text/plain": [
       "   index        Date   Time                            Location  \\\n",
       "0      0  09/17/1908  17:18                 Fort Myer, Virginia   \n",
       "1      1  07/12/1912  06:30             AtlantiCity, New Jersey   \n",
       "2      2  08/06/1913    NaN  Victoria, British Columbia, Canada   \n",
       "\n",
       "               Operator Flight #          Route              Type  \\\n",
       "0  Military - U.S. Army      NaN  Demonstration  Wright Flyer III   \n",
       "1  Military - U.S. Navy      NaN    Test flight         Dirigible   \n",
       "2               Private        -            NaN  Curtiss seaplane   \n",
       "\n",
       "  Registration cn/In  Aboard  Fatalities  Ground  \\\n",
       "0          NaN     1     2.0         1.0     0.0   \n",
       "1          NaN   NaN     5.0         5.0     0.0   \n",
       "2          NaN   NaN     1.0         1.0     0.0   \n",
       "\n",
       "                                             Summary  \n",
       "0  During a demonstration flight, a U.S. Army fly...  \n",
       "1  First U.S. dirigible Akron exploded just offsh...  \n",
       "2  The first fatal airplane accident in Canada oc...  "
      ]
     },
     "execution_count": 43,
     "metadata": {},
     "output_type": "execute_result"
    }
   ],
   "source": [
    "# Mostrar las primeras (3) filas:\n",
    "print(\"\\u001b[1mPRIMERAS (3) FILAS\\u001b[0m\")\n",
    "df.head(3) # type: ignore"
   ]
  },
  {
   "cell_type": "markdown",
   "metadata": {},
   "source": [
    "`Cantidad de valores NaN`,  se presenta la cantidad de valores nulos por cada columna.  \n",
    "Al ejecutar el comando siguiente se presenta que los datos cuentan con datos NaN."
   ]
  },
  {
   "cell_type": "code",
   "execution_count": 42,
   "metadata": {},
   "outputs": [
    {
     "data": {
      "text/plain": [
       "index              0\n",
       "Date               0\n",
       "Time            2219\n",
       "Location          20\n",
       "Operator          18\n",
       "Flight #        4199\n",
       "Route           1707\n",
       "Type              27\n",
       "Registration     335\n",
       "cn/In           1228\n",
       "Aboard            22\n",
       "Fatalities        12\n",
       "Ground            22\n",
       "Summary          390\n",
       "dtype: int64"
      ]
     },
     "execution_count": 42,
     "metadata": {},
     "output_type": "execute_result"
    }
   ],
   "source": [
    "# 3. Veamos la cantidad de valores NaN\n",
    "df.isna().sum()"
   ]
  }
 ],
 "metadata": {
  "kernelspec": {
   "display_name": "Python 3",
   "language": "python",
   "name": "python3"
  },
  "language_info": {
   "codemirror_mode": {
    "name": "ipython",
    "version": 3
   },
   "file_extension": ".py",
   "mimetype": "text/x-python",
   "name": "python",
   "nbconvert_exporter": "python",
   "pygments_lexer": "ipython3",
   "version": "3.12.4"
  }
 },
 "nbformat": 4,
 "nbformat_minor": 2
}
