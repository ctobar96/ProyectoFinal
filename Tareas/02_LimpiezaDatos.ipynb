{
 "cells": [
  {
   "cell_type": "markdown",
   "metadata": {},
   "source": [
    "# Limpieza de Datos\n",
    "En base a la inspección anterior, se limpiara el dataset para garantizar que esté libre para el análisis.\n",
    "Se iniciará con la eliminación de los valores nulos para tener un mejor análisis en los datos y que no se ve perturbados.\n",
    "Las columnas a trabajas:\n",
    "-\t`Registration`, matricula de las aviones.\n",
    "-\t`Aboard`, el número de personas a bordo.\n",
    "-\t`Fatalities`, número de víctimas. \n",
    "-\t`Ground`, número de personas en tierra que murieron. \n",
    "\n"
   ]
  },
  {
   "cell_type": "code",
   "execution_count": 1,
   "metadata": {},
   "outputs": [],
   "source": [
    "# Importando la librería de pandas\n",
    "import pandas as pd  # type: ignore\n",
    "import os\n",
    "\n",
    "# Cargar datos desde un archivo CSV\n",
    "try:\n",
    "    rutaAbsoluta = os.path.abspath('../Airplane_Crashes_and_Fatalities_Since_1908.csv')\n",
    "    df = pd.read_csv(rutaAbsoluta)    \n",
    "except FileNotFoundError:\n",
    "    print(\"El archivo no se encuentra.\") "
   ]
  },
  {
   "cell_type": "markdown",
   "metadata": {},
   "source": [
    "`Valores NaN de Registration`, primeramente se observará la cantidad de valores NaN para su posterior eliminación. "
   ]
  },
  {
   "cell_type": "code",
   "execution_count": 14,
   "metadata": {},
   "outputs": [
    {
     "name": "stdout",
     "output_type": "stream",
     "text": [
      "\u001b[1mREGISTRATION\u001b[0m\n",
      "Cantidad de NaN: 0\n",
      "Filas: 4933 \n",
      "\n"
     ]
    }
   ],
   "source": [
    "# Se implementará la eliminación de NaN de la columna Registration\n",
    "# Cantidad de valores NaN\n",
    "print(\"\\u001b[1mREGISTRATION\\u001b[0m\")\n",
    "print(f\"Cantidad de NaN: {df['Registration'].isna().sum()}\")\n",
    "\n",
    "#Eliminación de los valores nulos\n",
    "df = df.dropna(subset=[\"Registration\"])\n",
    "\n",
    "# Cantidad de datos que quedan\n",
    "print(\"Filas:\",df.shape[0],\"\\n\")\n"
   ]
  },
  {
   "cell_type": "markdown",
   "metadata": {},
   "source": [
    "`Valores NaN de Aboard`, Cantidad de valores NaN de las personas a bordo."
   ]
  },
  {
   "cell_type": "code",
   "execution_count": 15,
   "metadata": {},
   "outputs": [
    {
     "name": "stdout",
     "output_type": "stream",
     "text": [
      "\u001b[1mABOARD\u001b[0m\n",
      "Cantidad de NaN: 19\n",
      "Filas: 4914 \n",
      "\n"
     ]
    }
   ],
   "source": [
    "# Se implementará la eliminación de NaN de la columna Aboard\n",
    "# Cantidad de valores NaN\n",
    "print(\"\\u001b[1mABOARD\\u001b[0m\")\n",
    "print(f\"Cantidad de NaN: {df['Aboard'].isna().sum()}\")\n",
    "\n",
    "#Eliminación de los valores nulos\n",
    "df = df.dropna(subset=[\"Aboard\"])\n",
    "\n",
    "# Cantidad de datos que quedan\n",
    "print(\"Filas:\",df.shape[0],\"\\n\")"
   ]
  },
  {
   "cell_type": "markdown",
   "metadata": {},
   "source": [
    "`Valores NaN de Fatalities`, Cantidad de valores NaN de número de víctimas."
   ]
  },
  {
   "cell_type": "code",
   "execution_count": 16,
   "metadata": {},
   "outputs": [
    {
     "name": "stdout",
     "output_type": "stream",
     "text": [
      "\u001b[1mFATALITIES\u001b[0m\n",
      "Cantidad de NaN: 0\n",
      "Filas: 4914 \n",
      "\n"
     ]
    }
   ],
   "source": [
    "# Se implementará la eliminación de NaN de la columna Fatalities\n",
    "# Cantidad de valores NaN\n",
    "print(\"\\u001b[1mFATALITIES\\u001b[0m\")\n",
    "print(f\"Cantidad de NaN: {df['Fatalities'].isna().sum()}\")\n",
    "\n",
    "#Eliminación de los valores nulos\n",
    "df = df.dropna(subset=[\"Fatalities\"])\n",
    "\n",
    "# Cantidad de datos que quedan\n",
    "print(\"Filas:\",df.shape[0],\"\\n\")"
   ]
  },
  {
   "cell_type": "markdown",
   "metadata": {},
   "source": [
    "`Valores NaN de Ground`, Cantidad de valores NaN de número de personas en tierra que murieron."
   ]
  },
  {
   "cell_type": "code",
   "execution_count": 17,
   "metadata": {},
   "outputs": [
    {
     "name": "stdout",
     "output_type": "stream",
     "text": [
      "\u001b[1mGROUND\u001b[0m\n",
      "Cantidad de NaN: 5\n",
      "Filas: 4909 \n",
      "\n"
     ]
    }
   ],
   "source": [
    "# Se implementará la eliminación de NaN de la columna Ground\n",
    "# Cantidad de valores NaN\n",
    "print(\"\\u001b[1mGROUND\\u001b[0m\")\n",
    "print(f\"Cantidad de NaN: {df['Ground'].isna().sum()}\")\n",
    "\n",
    "#Eliminación de los valores nulos\n",
    "df = df.dropna(subset=[\"Ground\"])\n",
    "\n",
    "# Cantidad de datos que quedan\n",
    "print(\"Filas:\",df.shape[0],\"\\n\")"
   ]
  },
  {
   "cell_type": "markdown",
   "metadata": {},
   "source": [
    "#### Resumen de la limpieza de NaN:\n",
    "Se eliminaron valores nulos de 5 columnas, con una cantidad de:\n",
    "-\tRegistration: 335\n",
    "-\tAboard: 22\n",
    "-\tFatalities: 12\n",
    "-\tGround: 22  \n",
    "\n",
    "A medida que se van eliminando valores nulos, hay campos que la cantidad total de NaN va disminuido debido a comparten filas en común. Al trabajar con estas columnas la cantidad de datos disminuyo de 5.268 a 4.909, con un descenso de 359 datos.\n",
    "\n"
   ]
  },
  {
   "cell_type": "code",
   "execution_count": 18,
   "metadata": {},
   "outputs": [
    {
     "name": "stdout",
     "output_type": "stream",
     "text": [
      "\u001b[1mDIMENSIONES\u001b[0m\n",
      "Filas: 4909\n",
      "Columnas: 14 \n",
      "\n",
      "\u001b[1mCANTIDAD DE VALORES NULOS\u001b[0m\n"
     ]
    },
    {
     "data": {
      "text/plain": [
       "index              0\n",
       "Date               0\n",
       "Time            1960\n",
       "Location          15\n",
       "Operator           9\n",
       "Flight #        3850\n",
       "Route           1480\n",
       "Type               8\n",
       "Registration       0\n",
       "cn/In            894\n",
       "Aboard             0\n",
       "Fatalities         0\n",
       "Ground             0\n",
       "Summary          322\n",
       "dtype: int64"
      ]
     },
     "execution_count": 18,
     "metadata": {},
     "output_type": "execute_result"
    }
   ],
   "source": [
    "# Información General del Dataset\n",
    "# -------- Dimensiones ------------\n",
    "print(\"\\u001b[1mDIMENSIONES\\u001b[0m\")\n",
    "print(\"Filas:\",df.shape[0]) # type: ignore\n",
    "print(\"Columnas:\",df.shape[1],\"\\n\") # type: ignore\n",
    "\n",
    "# -------- Valores NaN ------------\n",
    "print(\"\\u001b[1mCANTIDAD DE VALORES NULOS\\u001b[0m\")\n",
    "df.isna().sum()"
   ]
  },
  {
   "cell_type": "markdown",
   "metadata": {},
   "source": [
    "#### Observación de datos repetidos."
   ]
  }
 ],
 "metadata": {
  "kernelspec": {
   "display_name": "Python 3",
   "language": "python",
   "name": "python3"
  },
  "language_info": {
   "codemirror_mode": {
    "name": "ipython",
    "version": 3
   },
   "file_extension": ".py",
   "mimetype": "text/x-python",
   "name": "python",
   "nbconvert_exporter": "python",
   "pygments_lexer": "ipython3",
   "version": "3.12.4"
  }
 },
 "nbformat": 4,
 "nbformat_minor": 2
}
