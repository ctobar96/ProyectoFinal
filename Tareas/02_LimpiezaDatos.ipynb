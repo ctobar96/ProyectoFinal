{
 "cells": [
  {
   "cell_type": "markdown",
   "metadata": {},
   "source": [
    "# Limpieza de Datos\n",
    "En base a la inspección anterior, se limpiara el dataset para garantizar que esté libre para el análisis.\n",
    "Se iniciará con la eliminación de los valores nulos para tener un mejor análisis en los datos y que no se ve perturbados.\n",
    "Las columnas a trabajas:\n",
    "\n",
    "-\t`Registration`, matricula de las aviones.\n",
    "-\t`Aboard`, el número de personas a bordo.\n",
    "-\t`Fatalities`, número de víctimas. \n",
    "-\t`Ground`, número de personas en tierra que murieron. \n",
    "-   `Type`, tipo de aeronave.\n",
    "\n"
   ]
  },
  {
   "cell_type": "code",
   "execution_count": 2,
   "metadata": {},
   "outputs": [],
   "source": [
    "# Importando la librería de pandas\n",
    "import pandas as pd  # type: ignore\n",
    "import os\n",
    "\n",
    "# Cargar datos desde un archivo CSV\n",
    "try:\n",
    "    rutaAbsoluta = os.path.abspath('../Airplane_Crashes_and_Fatalities_Since_1908.csv')\n",
    "    df = pd.read_csv(rutaAbsoluta)    \n",
    "except FileNotFoundError:\n",
    "    print(\"El archivo no se encuentra.\") "
   ]
  },
  {
   "cell_type": "markdown",
   "metadata": {},
   "source": [
    "`Valores NaN de Registration`, primeramente se observará la cantidad de valores NaN para su posterior eliminación. "
   ]
  },
  {
   "cell_type": "code",
   "execution_count": 4,
   "metadata": {},
   "outputs": [
    {
     "name": "stdout",
     "output_type": "stream",
     "text": [
      "\u001b[1mREGISTRATION\u001b[0m\n",
      "Cantidad de NaN: 335\n",
      "Filas: 4933 \n",
      "\n"
     ]
    }
   ],
   "source": [
    "# Se implementará la eliminación de NaN de la columna Registration\n",
    "# Cantidad de valores NaN\n",
    "print(\"\\u001b[1mREGISTRATION\\u001b[0m\")\n",
    "print(f\"Cantidad de NaN: {df['Registration'].isna().sum()}\")\n",
    "\n",
    "#Eliminación de los valores nulos\n",
    "df = df.dropna(subset=[\"Registration\"])\n",
    "\n",
    "# Cantidad de datos que quedan\n",
    "print(\"Filas:\",df.shape[0],\"\\n\")\n"
   ]
  },
  {
   "cell_type": "markdown",
   "metadata": {},
   "source": [
    "`Valores NaN de Aboard`, Cantidad de valores NaN de las personas a bordo."
   ]
  },
  {
   "cell_type": "code",
   "execution_count": 5,
   "metadata": {},
   "outputs": [
    {
     "name": "stdout",
     "output_type": "stream",
     "text": [
      "\u001b[1mABOARD\u001b[0m\n",
      "Cantidad de NaN: 19\n",
      "Filas: 4914 \n",
      "\n"
     ]
    }
   ],
   "source": [
    "# Se implementará la eliminación de NaN de la columna Aboard\n",
    "# Cantidad de valores NaN\n",
    "print(\"\\u001b[1mABOARD\\u001b[0m\")\n",
    "print(f\"Cantidad de NaN: {df['Aboard'].isna().sum()}\")\n",
    "\n",
    "#Eliminación de los valores nulos\n",
    "df = df.dropna(subset=[\"Aboard\"])\n",
    "\n",
    "# Cantidad de datos que quedan\n",
    "print(\"Filas:\",df.shape[0],\"\\n\")"
   ]
  },
  {
   "cell_type": "markdown",
   "metadata": {},
   "source": [
    "`Valores NaN de Fatalities`, Cantidad de valores NaN de número de víctimas."
   ]
  },
  {
   "cell_type": "code",
   "execution_count": 6,
   "metadata": {},
   "outputs": [
    {
     "name": "stdout",
     "output_type": "stream",
     "text": [
      "\u001b[1mFATALITIES\u001b[0m\n",
      "Cantidad de NaN: 0\n",
      "Filas: 4914 \n",
      "\n"
     ]
    }
   ],
   "source": [
    "# Se implementará la eliminación de NaN de la columna Fatalities\n",
    "# Cantidad de valores NaN\n",
    "print(\"\\u001b[1mFATALITIES\\u001b[0m\")\n",
    "print(f\"Cantidad de NaN: {df['Fatalities'].isna().sum()}\")\n",
    "\n",
    "#Eliminación de los valores nulos\n",
    "df = df.dropna(subset=[\"Fatalities\"])\n",
    "\n",
    "# Cantidad de datos que quedan\n",
    "print(\"Filas:\",df.shape[0],\"\\n\")"
   ]
  },
  {
   "cell_type": "markdown",
   "metadata": {},
   "source": [
    "`Valores NaN de Ground`, Cantidad de valores NaN de número de personas en tierra que murieron."
   ]
  },
  {
   "cell_type": "code",
   "execution_count": 7,
   "metadata": {},
   "outputs": [
    {
     "name": "stdout",
     "output_type": "stream",
     "text": [
      "\u001b[1mGROUND\u001b[0m\n",
      "Cantidad de NaN: 5\n",
      "Filas: 4909 \n",
      "\n"
     ]
    }
   ],
   "source": [
    "# Se implementará la eliminación de NaN de la columna Ground\n",
    "# Cantidad de valores NaN\n",
    "print(\"\\u001b[1mGROUND\\u001b[0m\")\n",
    "print(f\"Cantidad de NaN: {df['Ground'].isna().sum()}\")\n",
    "\n",
    "#Eliminación de los valores nulos\n",
    "df = df.dropna(subset=[\"Ground\"])\n",
    "\n",
    "# Cantidad de datos que quedan\n",
    "print(\"Filas:\",df.shape[0],\"\\n\")"
   ]
  },
  {
   "cell_type": "markdown",
   "metadata": {},
   "source": [
    "`Valores NaN de Type`, primeramente se observará la cantidad de valores NaN para su posterior eliminación. "
   ]
  },
  {
   "cell_type": "code",
   "execution_count": 8,
   "metadata": {},
   "outputs": [
    {
     "name": "stdout",
     "output_type": "stream",
     "text": [
      "\u001b[1mTYPE\u001b[0m\n",
      "Cantidad de NaN: 8\n",
      "Filas: 4901 \n",
      "\n"
     ]
    }
   ],
   "source": [
    "# Se implementará la eliminación de NaN de la columna Type\n",
    "# Cantidad de valores NaN\n",
    "print(\"\\u001b[1mTYPE\\u001b[0m\")\n",
    "print(f\"Cantidad de NaN: {df['Type'].isna().sum()}\")\n",
    "\n",
    "#Eliminación de los valores nulos\n",
    "df = df.dropna(subset=[\"Type\"])\n",
    "\n",
    "# Cantidad de datos que quedan\n",
    "print(\"Filas:\",df.shape[0],\"\\n\")"
   ]
  },
  {
   "cell_type": "markdown",
   "metadata": {},
   "source": [
    "`Valores NaN de Operator`, primeramente se observará la cantidad de valores NaN para su posterior eliminación. "
   ]
  },
  {
   "cell_type": "code",
   "execution_count": 9,
   "metadata": {},
   "outputs": [
    {
     "name": "stdout",
     "output_type": "stream",
     "text": [
      "\u001b[1mOPERATOR\u001b[0m\n",
      "Cantidad de NaN: 9\n",
      "Filas: 4892 \n",
      "\n"
     ]
    }
   ],
   "source": [
    "# Se implementará la eliminación de NaN de la columna Type\n",
    "# Cantidad de valores NaN\n",
    "print(\"\\u001b[1mOPERATOR\\u001b[0m\")\n",
    "print(f\"Cantidad de NaN: {df['Operator'].isna().sum()}\")\n",
    "\n",
    "#Eliminación de los valores nulos\n",
    "df = df.dropna(subset=[\"Operator\"])\n",
    "\n",
    "# Cantidad de datos que quedan\n",
    "print(\"Filas:\",df.shape[0],\"\\n\")"
   ]
  },
  {
   "cell_type": "markdown",
   "metadata": {},
   "source": [
    "#### Resumen de la limpieza de NaN:\n",
    "Se eliminaron valores nulos de 5 columnas, con una cantidad de:\n",
    "-\tRegistration: 335\n",
    "-\tAboard: 22\n",
    "-\tFatalities: 12\n",
    "-\tGround: 22  \n",
    "-   Type: 27\n",
    "-   Operator: 18\n",
    "\n",
    "A medida que se van eliminando valores nulos, hay campos que la cantidad total de NaN va disminuido debido a comparten filas en común. Al trabajar con estas columnas la cantidad de datos disminuyo de 5.268 a 4.892, con un descenso de 376 datos.\n",
    "\n"
   ]
  },
  {
   "cell_type": "code",
   "execution_count": 11,
   "metadata": {},
   "outputs": [
    {
     "name": "stdout",
     "output_type": "stream",
     "text": [
      "\u001b[1mDIMENSIONES\u001b[0m\n",
      "Filas: 4892\n",
      "Columnas: 14 \n",
      "\n",
      "\u001b[1mCANTIDAD DE VALORES NULOS\u001b[0m\n"
     ]
    },
    {
     "data": {
      "text/plain": [
       "index              0\n",
       "Date               0\n",
       "Time            1947\n",
       "Location          14\n",
       "Operator           0\n",
       "Flight #        3833\n",
       "Route           1468\n",
       "Type               0\n",
       "Registration       0\n",
       "cn/In            882\n",
       "Aboard             0\n",
       "Fatalities         0\n",
       "Ground             0\n",
       "Summary          317\n",
       "dtype: int64"
      ]
     },
     "execution_count": 11,
     "metadata": {},
     "output_type": "execute_result"
    }
   ],
   "source": [
    "# Información General del Dataset\n",
    "# -------- Dimensiones ------------\n",
    "print(\"\\u001b[1mDIMENSIONES\\u001b[0m\")\n",
    "print(\"Filas:\",df.shape[0]) # type: ignore\n",
    "print(\"Columnas:\",df.shape[1],\"\\n\") # type: ignore\n",
    "\n",
    "# -------- Valores NaN ------------\n",
    "print(\"\\u001b[1mCANTIDAD DE VALORES NULOS\\u001b[0m\")\n",
    "df.isna().sum()"
   ]
  },
  {
   "cell_type": "markdown",
   "metadata": {},
   "source": [
    "#### Observación de datos repetidos.\n",
    "Se éstima observar los datos repetidos de las matriculas de los aviones `\"Registration\"` y `Type`. Se sabe que la cantidad total de fila es de \n",
    "4.892.  \n",
    "Solamente, se estimarán los valores duplicados para dicha visualización, no se eliminarán los datos duplicados para el dicho análisis a desarrollar."
   ]
  },
  {
   "cell_type": "code",
   "execution_count": 12,
   "metadata": {},
   "outputs": [
    {
     "name": "stdout",
     "output_type": "stream",
     "text": [
      "\u001b[1mINFORMACIÓN GENERAL\u001b[0m\n",
      "<class 'pandas.core.frame.DataFrame'>\n",
      "Index: 4892 entries, 21 to 5266\n",
      "Data columns (total 14 columns):\n",
      " #   Column        Non-Null Count  Dtype  \n",
      "---  ------        --------------  -----  \n",
      " 0   index         4892 non-null   int64  \n",
      " 1   Date          4892 non-null   object \n",
      " 2   Time          2945 non-null   object \n",
      " 3   Location      4878 non-null   object \n",
      " 4   Operator      4892 non-null   object \n",
      " 5   Flight #      1059 non-null   object \n",
      " 6   Route         3424 non-null   object \n",
      " 7   Type          4892 non-null   object \n",
      " 8   Registration  4892 non-null   object \n",
      " 9   cn/In         4010 non-null   object \n",
      " 10  Aboard        4892 non-null   float64\n",
      " 11  Fatalities    4892 non-null   float64\n",
      " 12  Ground        4892 non-null   float64\n",
      " 13  Summary       4575 non-null   object \n",
      "dtypes: float64(3), int64(1), object(10)\n",
      "memory usage: 573.3+ KB\n"
     ]
    }
   ],
   "source": [
    "# -------- Valores Repetidos ------------\n",
    "print(\"\\u001b[1mINFORMACIÓN GENERAL\\u001b[0m\")\n",
    "df.info()"
   ]
  },
  {
   "cell_type": "code",
   "execution_count": 35,
   "metadata": {},
   "outputs": [
    {
     "name": "stdout",
     "output_type": "stream",
     "text": [
      "\u001b[1mVALORES REPETIDOS DE REGISTRATION\u001b[0m\n",
      "Registration\n",
      "49            3\n",
      "PT-EHH        2\n",
      "CCCP-09303    2\n",
      "N91303        2\n",
      "NC10809       2\n",
      "PT-EPH        2\n",
      "W4026         2\n",
      "FAE-068       2\n",
      "N37741        2\n",
      "G-AEUH        2\n",
      "TC-72         2\n",
      "223           2\n",
      "CP-45         2\n",
      "CF-TCL        2\n",
      "CCCP-46724    2\n",
      "412           2\n",
      "N67941        2\n",
      "N864JA        2\n",
      "012           2\n",
      "204           2\n",
      "82            2\n",
      "VH-USG        2\n",
      "128441        2\n",
      "32            2\n",
      "77            2\n",
      "XA-GOT        2\n",
      "65-0990       2\n",
      "Name: count, dtype: int64\n",
      "\u001b[1mNúmero de valores únicos que están duplicados:\u001b[0m 27\n"
     ]
    }
   ],
   "source": [
    "# VALORES REPETIDOS DE REGISTRATION\n",
    "print(\"\\u001b[1mVALORES REPETIDOS DE REGISTRATION\\u001b[0m\")\n",
    "\n",
    "# Contar cuántas veces aparece cada valor en la columna\n",
    "columna = \"Registration\"\n",
    "conteoVal = df[columna].value_counts() \n",
    "valRepetidos = conteoVal[conteoVal > 1] # Filtrar los valores que aparecen más de una vez\n",
    "print(valRepetidos, end=\"\\n\")\n",
    "\n",
    "# Contar el número de valores únicos que están duplicados\n",
    "num_valores_duplicados = len(valRepetidos) \n",
    "print(f\"\\u001b[1mNúmero de valores únicos que están duplicados:\\u001b[0m {num_valores_duplicados}\")"
   ]
  },
  {
   "cell_type": "code",
   "execution_count": 34,
   "metadata": {},
   "outputs": [
    {
     "name": "stdout",
     "output_type": "stream",
     "text": [
      "\u001b[1mVALORES REPETIDOS DE TYPE\u001b[0m\n",
      "Type\n",
      "Douglas DC-3                                320\n",
      "de Havilland Canada DHC-6 Twin Otter 300     81\n",
      "Douglas C-47A                                72\n",
      "Douglas C-47                                 44\n",
      "Douglas DC-4                                 39\n",
      "                                           ... \n",
      "Handley Page W-10                             2\n",
      "Curtiss C-46D-15-CU                           2\n",
      "Avro Shackleton MR-1                          2\n",
      "Convair CV-240-7                              2\n",
      "Douglas C-47A-35-DL                           2\n",
      "Name: count, Length: 621, dtype: int64\n",
      "\u001b[1mNúmero de valores únicos que están duplicados: \u001b[0m 621\n"
     ]
    }
   ],
   "source": [
    "# VALORES REPETIDOS DE TYPE\n",
    "print(\"\\u001b[1mVALORES REPETIDOS DE TYPE\\u001b[0m\")\n",
    "\n",
    "# Contar cuantas veces aparece cada valor en la columna\n",
    "columna2 = \"Type\"\n",
    "conteoValType = df[columna2].value_counts()\n",
    "valRepetidosType = conteoValType[conteoValType > 1] # Filtrar valores que aparecen más de una vez\n",
    "print(valRepetidosType, end=\"\\n\") # Imprimir datos\n",
    "\n",
    "# Contar el número de valores únicos que están duplicados\n",
    "num_valores_duplicados_Type = len(valRepetidosType)\n",
    "print(f\"\\u001b[1mNúmero de valores únicos que están duplicados: \\u001b[0m {num_valores_duplicados_Type}\")\n"
   ]
  },
  {
   "cell_type": "markdown",
   "metadata": {},
   "source": [
    "#### Resumen de los datos repetidos:\n",
    "Con respecto a la información general entrega, se puede observar que la columna a estudiar los datos repetidos si presentan datos duplicados.  \n",
    "`Registration: 27`  \n",
    "`Type: 621`"
   ]
  },
  {
   "cell_type": "markdown",
   "metadata": {},
   "source": [
    "#### Guardado del archivo\n",
    "Se implementa guardar el archivo con su respectiva limpieza de los datos, para su continuidad de estudio.\n"
   ]
  },
  {
   "cell_type": "code",
   "execution_count": 31,
   "metadata": {},
   "outputs": [],
   "source": [
    "# Guardando resultado\n",
    "df.to_csv(\"Accidentes_Aereos_Filtrados.csv\", index=False) # no nos interesan los indices"
   ]
  }
 ],
 "metadata": {
  "kernelspec": {
   "display_name": "Python 3",
   "language": "python",
   "name": "python3"
  },
  "language_info": {
   "codemirror_mode": {
    "name": "ipython",
    "version": 3
   },
   "file_extension": ".py",
   "mimetype": "text/x-python",
   "name": "python",
   "nbconvert_exporter": "python",
   "pygments_lexer": "ipython3",
   "version": "3.12.4"
  }
 },
 "nbformat": 4,
 "nbformat_minor": 2
}
